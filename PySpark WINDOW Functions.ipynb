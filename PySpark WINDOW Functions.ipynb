{
 "cells": [
  {
   "cell_type": "code",
   "execution_count": 0,
   "metadata": {
    "application/vnd.databricks.v1+cell": {
     "cellMetadata": {
      "byteLimit": 2048000,
      "rowLimit": 10000
     },
     "inputWidgets": {},
     "nuid": "daa5d92f-f657-4d30-a4e8-c13a43b2c4ac",
     "showTitle": false,
     "title": ""
    }
   },
   "outputs": [],
   "source": [
    "from pyspark.sql import Row\n",
    "\n",
    "data = [\n",
    "    Row(date=\"2022-01\", item=\"apple\", sales=100),\n",
    "    Row(date=\"2022-01\", item=\"banana\", sales=200),\n",
    "    Row(date=\"2022-01\", item=\"grapes\", sales=200),\n",
    "    Row(date=\"2022-01\", item=\"orange\", sales=300),\n",
    "    Row(date=\"2022-02\", item=\"apple\", sales=150),\n",
    "    Row(date=\"2022-02\", item=\"banana\", sales=250),\n",
    "    Row(date=\"2022-02\", item=\"orange\", sales=350),\n",
    "    Row(date=\"2022-02\", item=\"grapes\", sales=420),\n",
    "    Row(date=\"2022-03\", item=\"apple\", sales=200),\n",
    "    Row(date=\"2022-03\", item=\"banana\", sales=300),\n",
    "    Row(date=\"2022-03\", item=\"grapes\", sales=110),\n",
    "    Row(date=\"2022-03\", item=\"orange\", sales=400),\n",
    "]\n",
    "\n",
    "# Create a DataFrame\n",
    "df = spark.createDataFrame(data)"
   ]
  },
  {
   "cell_type": "code",
   "execution_count": 0,
   "metadata": {
    "application/vnd.databricks.v1+cell": {
     "cellMetadata": {
      "byteLimit": 2048000,
      "rowLimit": 10000
     },
     "inputWidgets": {},
     "nuid": "86005faa-284f-455a-8976-45a84b7d610a",
     "showTitle": false,
     "title": ""
    }
   },
   "outputs": [
    {
     "output_type": "display_data",
     "data": {
      "text/html": [
       "<style scoped>\n",
       "  .table-result-container {\n",
       "    max-height: 300px;\n",
       "    overflow: auto;\n",
       "  }\n",
       "  table, th, td {\n",
       "    border: 1px solid black;\n",
       "    border-collapse: collapse;\n",
       "  }\n",
       "  th, td {\n",
       "    padding: 5px;\n",
       "  }\n",
       "  th {\n",
       "    text-align: left;\n",
       "  }\n",
       "</style><div class='table-result-container'><table class='table-result'><thead style='background-color: white'><tr><th>date</th><th>item</th><th>sales</th></tr></thead><tbody><tr><td>2022-01</td><td>apple</td><td>100</td></tr><tr><td>2022-01</td><td>banana</td><td>200</td></tr><tr><td>2022-01</td><td>grapes</td><td>200</td></tr><tr><td>2022-01</td><td>orange</td><td>300</td></tr><tr><td>2022-02</td><td>apple</td><td>150</td></tr><tr><td>2022-02</td><td>banana</td><td>250</td></tr><tr><td>2022-02</td><td>orange</td><td>350</td></tr><tr><td>2022-02</td><td>grapes</td><td>420</td></tr><tr><td>2022-03</td><td>apple</td><td>200</td></tr><tr><td>2022-03</td><td>banana</td><td>300</td></tr><tr><td>2022-03</td><td>grapes</td><td>110</td></tr><tr><td>2022-03</td><td>orange</td><td>400</td></tr></tbody></table></div>"
      ]
     },
     "metadata": {
      "application/vnd.databricks.v1+output": {
       "addedWidgets": {},
       "aggData": [],
       "aggError": "",
       "aggOverflow": false,
       "aggSchema": [],
       "aggSeriesLimitReached": false,
       "aggType": "",
       "arguments": {},
       "columnCustomDisplayInfos": {},
       "data": [
        [
         "2022-01",
         "apple",
         100
        ],
        [
         "2022-01",
         "banana",
         200
        ],
        [
         "2022-01",
         "grapes",
         200
        ],
        [
         "2022-01",
         "orange",
         300
        ],
        [
         "2022-02",
         "apple",
         150
        ],
        [
         "2022-02",
         "banana",
         250
        ],
        [
         "2022-02",
         "orange",
         350
        ],
        [
         "2022-02",
         "grapes",
         420
        ],
        [
         "2022-03",
         "apple",
         200
        ],
        [
         "2022-03",
         "banana",
         300
        ],
        [
         "2022-03",
         "grapes",
         110
        ],
        [
         "2022-03",
         "orange",
         400
        ]
       ],
       "datasetInfos": [],
       "dbfsResultPath": null,
       "isJsonSchema": true,
       "metadata": {},
       "overflow": false,
       "plotOptions": {
        "customPlotOptions": {},
        "displayType": "table",
        "pivotAggregation": null,
        "pivotColumns": null,
        "xColumns": null,
        "yColumns": null
       },
       "removedWidgets": [],
       "schema": [
        {
         "metadata": "{}",
         "name": "date",
         "type": "\"string\""
        },
        {
         "metadata": "{}",
         "name": "item",
         "type": "\"string\""
        },
        {
         "metadata": "{}",
         "name": "sales",
         "type": "\"long\""
        }
       ],
       "type": "table"
      }
     },
     "output_type": "display_data"
    }
   ],
   "source": [
    "display(df)"
   ]
  },
  {
   "cell_type": "code",
   "execution_count": 0,
   "metadata": {
    "application/vnd.databricks.v1+cell": {
     "cellMetadata": {
      "byteLimit": 2048000,
      "rowLimit": 10000
     },
     "inputWidgets": {},
     "nuid": "e9be5531-66e5-482e-9e7c-e8fd6469d67b",
     "showTitle": false,
     "title": ""
    }
   },
   "outputs": [],
   "source": []
  },
  {
   "cell_type": "code",
   "execution_count": 0,
   "metadata": {
    "application/vnd.databricks.v1+cell": {
     "cellMetadata": {
      "byteLimit": 2048000,
      "rowLimit": 10000
     },
     "inputWidgets": {},
     "nuid": "a1446759-3f88-492d-a1d0-eb33d0dae9ca",
     "showTitle": false,
     "title": ""
    }
   },
   "outputs": [],
   "source": [
    "from pyspark.sql.window import Window"
   ]
  },
  {
   "cell_type": "code",
   "execution_count": 0,
   "metadata": {
    "application/vnd.databricks.v1+cell": {
     "cellMetadata": {
      "byteLimit": 2048000,
      "rowLimit": 10000
     },
     "inputWidgets": {},
     "nuid": "9591421d-4eff-4c05-b79d-8238daf62b3a",
     "showTitle": false,
     "title": ""
    }
   },
   "outputs": [
    {
     "output_type": "display_data",
     "data": {
      "text/html": [
       "<style scoped>\n",
       "  .table-result-container {\n",
       "    max-height: 300px;\n",
       "    overflow: auto;\n",
       "  }\n",
       "  table, th, td {\n",
       "    border: 1px solid black;\n",
       "    border-collapse: collapse;\n",
       "  }\n",
       "  th, td {\n",
       "    padding: 5px;\n",
       "  }\n",
       "  th {\n",
       "    text-align: left;\n",
       "  }\n",
       "</style><div class='table-result-container'><table class='table-result'><thead style='background-color: white'><tr><th>date</th><th>item</th><th>sales</th><th>row_number</th></tr></thead><tbody><tr><td>2022-01</td><td>apple</td><td>100</td><td>1</td></tr><tr><td>2022-01</td><td>banana</td><td>200</td><td>2</td></tr><tr><td>2022-01</td><td>grapes</td><td>200</td><td>3</td></tr><tr><td>2022-01</td><td>orange</td><td>300</td><td>4</td></tr><tr><td>2022-02</td><td>apple</td><td>150</td><td>5</td></tr><tr><td>2022-02</td><td>banana</td><td>250</td><td>6</td></tr><tr><td>2022-02</td><td>orange</td><td>350</td><td>7</td></tr><tr><td>2022-02</td><td>grapes</td><td>420</td><td>8</td></tr><tr><td>2022-03</td><td>apple</td><td>200</td><td>9</td></tr><tr><td>2022-03</td><td>banana</td><td>300</td><td>10</td></tr><tr><td>2022-03</td><td>grapes</td><td>110</td><td>11</td></tr><tr><td>2022-03</td><td>orange</td><td>400</td><td>12</td></tr></tbody></table></div>"
      ]
     },
     "metadata": {
      "application/vnd.databricks.v1+output": {
       "addedWidgets": {},
       "aggData": [],
       "aggError": "",
       "aggOverflow": false,
       "aggSchema": [],
       "aggSeriesLimitReached": false,
       "aggType": "",
       "arguments": {},
       "columnCustomDisplayInfos": {},
       "data": [
        [
         "2022-01",
         "apple",
         100,
         1
        ],
        [
         "2022-01",
         "banana",
         200,
         2
        ],
        [
         "2022-01",
         "grapes",
         200,
         3
        ],
        [
         "2022-01",
         "orange",
         300,
         4
        ],
        [
         "2022-02",
         "apple",
         150,
         5
        ],
        [
         "2022-02",
         "banana",
         250,
         6
        ],
        [
         "2022-02",
         "orange",
         350,
         7
        ],
        [
         "2022-02",
         "grapes",
         420,
         8
        ],
        [
         "2022-03",
         "apple",
         200,
         9
        ],
        [
         "2022-03",
         "banana",
         300,
         10
        ],
        [
         "2022-03",
         "grapes",
         110,
         11
        ],
        [
         "2022-03",
         "orange",
         400,
         12
        ]
       ],
       "datasetInfos": [],
       "dbfsResultPath": null,
       "isJsonSchema": true,
       "metadata": {},
       "overflow": false,
       "plotOptions": {
        "customPlotOptions": {},
        "displayType": "table",
        "pivotAggregation": null,
        "pivotColumns": null,
        "xColumns": null,
        "yColumns": null
       },
       "removedWidgets": [],
       "schema": [
        {
         "metadata": "{}",
         "name": "date",
         "type": "\"string\""
        },
        {
         "metadata": "{}",
         "name": "item",
         "type": "\"string\""
        },
        {
         "metadata": "{}",
         "name": "sales",
         "type": "\"long\""
        },
        {
         "metadata": "{}",
         "name": "row_number",
         "type": "\"integer\""
        }
       ],
       "type": "table"
      }
     },
     "output_type": "display_data"
    }
   ],
   "source": [
    "from pyspark.sql.functions import row_number\n",
    "\n",
    "windowSpec = Window.orderBy(\"date\")\n",
    "display(df.withColumn(\"row_number\", row_number().over(windowSpec)))"
   ]
  },
  {
   "cell_type": "code",
   "execution_count": 0,
   "metadata": {
    "application/vnd.databricks.v1+cell": {
     "cellMetadata": {
      "byteLimit": 2048000,
      "rowLimit": 10000
     },
     "inputWidgets": {},
     "nuid": "68c91905-4ed8-4c7a-a6b1-c4812fd04509",
     "showTitle": false,
     "title": ""
    }
   },
   "outputs": [],
   "source": []
  },
  {
   "cell_type": "code",
   "execution_count": 0,
   "metadata": {
    "application/vnd.databricks.v1+cell": {
     "cellMetadata": {
      "byteLimit": 2048000,
      "rowLimit": 10000
     },
     "inputWidgets": {},
     "nuid": "35bbf46e-67f7-48a2-b5c5-ce9818935479",
     "showTitle": false,
     "title": ""
    }
   },
   "outputs": [
    {
     "output_type": "display_data",
     "data": {
      "text/html": [
       "<style scoped>\n",
       "  .table-result-container {\n",
       "    max-height: 300px;\n",
       "    overflow: auto;\n",
       "  }\n",
       "  table, th, td {\n",
       "    border: 1px solid black;\n",
       "    border-collapse: collapse;\n",
       "  }\n",
       "  th, td {\n",
       "    padding: 5px;\n",
       "  }\n",
       "  th {\n",
       "    text-align: left;\n",
       "  }\n",
       "</style><div class='table-result-container'><table class='table-result'><thead style='background-color: white'><tr><th>date</th><th>item</th><th>sales</th><th>rank</th></tr></thead><tbody><tr><td>2022-01</td><td>apple</td><td>100</td><td>1</td></tr><tr><td>2022-01</td><td>banana</td><td>200</td><td>2</td></tr><tr><td>2022-01</td><td>grapes</td><td>200</td><td>2</td></tr><tr><td>2022-01</td><td>orange</td><td>300</td><td>4</td></tr><tr><td>2022-02</td><td>apple</td><td>150</td><td>1</td></tr><tr><td>2022-02</td><td>banana</td><td>250</td><td>2</td></tr><tr><td>2022-02</td><td>orange</td><td>350</td><td>3</td></tr><tr><td>2022-02</td><td>grapes</td><td>420</td><td>4</td></tr><tr><td>2022-03</td><td>grapes</td><td>110</td><td>1</td></tr><tr><td>2022-03</td><td>apple</td><td>200</td><td>2</td></tr><tr><td>2022-03</td><td>banana</td><td>300</td><td>3</td></tr><tr><td>2022-03</td><td>orange</td><td>400</td><td>4</td></tr></tbody></table></div>"
      ]
     },
     "metadata": {
      "application/vnd.databricks.v1+output": {
       "addedWidgets": {},
       "aggData": [],
       "aggError": "",
       "aggOverflow": false,
       "aggSchema": [],
       "aggSeriesLimitReached": false,
       "aggType": "",
       "arguments": {},
       "columnCustomDisplayInfos": {},
       "data": [
        [
         "2022-01",
         "apple",
         100,
         1
        ],
        [
         "2022-01",
         "banana",
         200,
         2
        ],
        [
         "2022-01",
         "grapes",
         200,
         2
        ],
        [
         "2022-01",
         "orange",
         300,
         4
        ],
        [
         "2022-02",
         "apple",
         150,
         1
        ],
        [
         "2022-02",
         "banana",
         250,
         2
        ],
        [
         "2022-02",
         "orange",
         350,
         3
        ],
        [
         "2022-02",
         "grapes",
         420,
         4
        ],
        [
         "2022-03",
         "grapes",
         110,
         1
        ],
        [
         "2022-03",
         "apple",
         200,
         2
        ],
        [
         "2022-03",
         "banana",
         300,
         3
        ],
        [
         "2022-03",
         "orange",
         400,
         4
        ]
       ],
       "datasetInfos": [],
       "dbfsResultPath": null,
       "isJsonSchema": true,
       "metadata": {},
       "overflow": false,
       "plotOptions": {
        "customPlotOptions": {},
        "displayType": "table",
        "pivotAggregation": null,
        "pivotColumns": null,
        "xColumns": null,
        "yColumns": null
       },
       "removedWidgets": [],
       "schema": [
        {
         "metadata": "{}",
         "name": "date",
         "type": "\"string\""
        },
        {
         "metadata": "{}",
         "name": "item",
         "type": "\"string\""
        },
        {
         "metadata": "{}",
         "name": "sales",
         "type": "\"long\""
        },
        {
         "metadata": "{}",
         "name": "rank",
         "type": "\"integer\""
        }
       ],
       "type": "table"
      }
     },
     "output_type": "display_data"
    }
   ],
   "source": [
    "from pyspark.sql.functions import rank\n",
    "\n",
    "windowSpec = Window.orderBy(\"sales\").partitionBy(\"date\")\n",
    "display(df.withColumn(\"rank\", rank().over(windowSpec)))"
   ]
  },
  {
   "cell_type": "code",
   "execution_count": 0,
   "metadata": {
    "application/vnd.databricks.v1+cell": {
     "cellMetadata": {
      "byteLimit": 2048000,
      "rowLimit": 10000
     },
     "inputWidgets": {},
     "nuid": "5edd5d5a-41fb-4f28-b50b-7c75df9ee80d",
     "showTitle": false,
     "title": ""
    }
   },
   "outputs": [],
   "source": []
  },
  {
   "cell_type": "code",
   "execution_count": 0,
   "metadata": {
    "application/vnd.databricks.v1+cell": {
     "cellMetadata": {
      "byteLimit": 2048000,
      "rowLimit": 10000
     },
     "inputWidgets": {},
     "nuid": "2cd66e73-ccd3-473f-bde3-ecf72a4121cf",
     "showTitle": false,
     "title": ""
    }
   },
   "outputs": [
    {
     "output_type": "display_data",
     "data": {
      "text/html": [
       "<style scoped>\n",
       "  .table-result-container {\n",
       "    max-height: 300px;\n",
       "    overflow: auto;\n",
       "  }\n",
       "  table, th, td {\n",
       "    border: 1px solid black;\n",
       "    border-collapse: collapse;\n",
       "  }\n",
       "  th, td {\n",
       "    padding: 5px;\n",
       "  }\n",
       "  th {\n",
       "    text-align: left;\n",
       "  }\n",
       "</style><div class='table-result-container'><table class='table-result'><thead style='background-color: white'><tr><th>date</th><th>item</th><th>sales</th><th>rank</th></tr></thead><tbody><tr><td>2022-01</td><td>apple</td><td>100</td><td>1</td></tr><tr><td>2022-01</td><td>banana</td><td>200</td><td>2</td></tr><tr><td>2022-01</td><td>grapes</td><td>200</td><td>2</td></tr><tr><td>2022-01</td><td>orange</td><td>300</td><td>3</td></tr><tr><td>2022-02</td><td>apple</td><td>150</td><td>1</td></tr><tr><td>2022-02</td><td>banana</td><td>250</td><td>2</td></tr><tr><td>2022-02</td><td>orange</td><td>350</td><td>3</td></tr><tr><td>2022-02</td><td>grapes</td><td>420</td><td>4</td></tr><tr><td>2022-03</td><td>grapes</td><td>110</td><td>1</td></tr><tr><td>2022-03</td><td>apple</td><td>200</td><td>2</td></tr><tr><td>2022-03</td><td>banana</td><td>300</td><td>3</td></tr><tr><td>2022-03</td><td>orange</td><td>400</td><td>4</td></tr></tbody></table></div>"
      ]
     },
     "metadata": {
      "application/vnd.databricks.v1+output": {
       "addedWidgets": {},
       "aggData": [],
       "aggError": "",
       "aggOverflow": false,
       "aggSchema": [],
       "aggSeriesLimitReached": false,
       "aggType": "",
       "arguments": {},
       "columnCustomDisplayInfos": {},
       "data": [
        [
         "2022-01",
         "apple",
         100,
         1
        ],
        [
         "2022-01",
         "banana",
         200,
         2
        ],
        [
         "2022-01",
         "grapes",
         200,
         2
        ],
        [
         "2022-01",
         "orange",
         300,
         3
        ],
        [
         "2022-02",
         "apple",
         150,
         1
        ],
        [
         "2022-02",
         "banana",
         250,
         2
        ],
        [
         "2022-02",
         "orange",
         350,
         3
        ],
        [
         "2022-02",
         "grapes",
         420,
         4
        ],
        [
         "2022-03",
         "grapes",
         110,
         1
        ],
        [
         "2022-03",
         "apple",
         200,
         2
        ],
        [
         "2022-03",
         "banana",
         300,
         3
        ],
        [
         "2022-03",
         "orange",
         400,
         4
        ]
       ],
       "datasetInfos": [],
       "dbfsResultPath": null,
       "isJsonSchema": true,
       "metadata": {},
       "overflow": false,
       "plotOptions": {
        "customPlotOptions": {},
        "displayType": "table",
        "pivotAggregation": null,
        "pivotColumns": null,
        "xColumns": null,
        "yColumns": null
       },
       "removedWidgets": [],
       "schema": [
        {
         "metadata": "{}",
         "name": "date",
         "type": "\"string\""
        },
        {
         "metadata": "{}",
         "name": "item",
         "type": "\"string\""
        },
        {
         "metadata": "{}",
         "name": "sales",
         "type": "\"long\""
        },
        {
         "metadata": "{}",
         "name": "rank",
         "type": "\"integer\""
        }
       ],
       "type": "table"
      }
     },
     "output_type": "display_data"
    }
   ],
   "source": [
    "from pyspark.sql.functions import dense_rank\n",
    "\n",
    "windowSpec = Window.orderBy(\"sales\").partitionBy(\"date\")\n",
    "display(df.withColumn(\"rank\", dense_rank().over(windowSpec)))"
   ]
  },
  {
   "cell_type": "code",
   "execution_count": 0,
   "metadata": {
    "application/vnd.databricks.v1+cell": {
     "cellMetadata": {
      "byteLimit": 2048000,
      "rowLimit": 10000
     },
     "inputWidgets": {},
     "nuid": "37cbe88b-c9bd-4a8d-a31a-580b29f20781",
     "showTitle": false,
     "title": ""
    }
   },
   "outputs": [],
   "source": []
  },
  {
   "cell_type": "code",
   "execution_count": 0,
   "metadata": {
    "application/vnd.databricks.v1+cell": {
     "cellMetadata": {
      "byteLimit": 2048000,
      "rowLimit": 10000
     },
     "inputWidgets": {},
     "nuid": "38a02745-dd45-48e5-b6f7-7e8148023a5b",
     "showTitle": false,
     "title": ""
    }
   },
   "outputs": [
    {
     "output_type": "display_data",
     "data": {
      "text/html": [
       "<style scoped>\n",
       "  .table-result-container {\n",
       "    max-height: 300px;\n",
       "    overflow: auto;\n",
       "  }\n",
       "  table, th, td {\n",
       "    border: 1px solid black;\n",
       "    border-collapse: collapse;\n",
       "  }\n",
       "  th, td {\n",
       "    padding: 5px;\n",
       "  }\n",
       "  th {\n",
       "    text-align: left;\n",
       "  }\n",
       "</style><div class='table-result-container'><table class='table-result'><thead style='background-color: white'><tr><th>date</th><th>item</th><th>sales</th><th>rank</th></tr></thead><tbody><tr><td>2022-01</td><td>apple</td><td>100</td><td>0.0</td></tr><tr><td>2022-01</td><td>banana</td><td>200</td><td>0.3333333333333333</td></tr><tr><td>2022-01</td><td>grapes</td><td>200</td><td>0.3333333333333333</td></tr><tr><td>2022-01</td><td>orange</td><td>300</td><td>1.0</td></tr><tr><td>2022-02</td><td>apple</td><td>150</td><td>0.0</td></tr><tr><td>2022-02</td><td>banana</td><td>250</td><td>0.3333333333333333</td></tr><tr><td>2022-02</td><td>orange</td><td>350</td><td>0.6666666666666666</td></tr><tr><td>2022-02</td><td>grapes</td><td>420</td><td>1.0</td></tr><tr><td>2022-03</td><td>grapes</td><td>110</td><td>0.0</td></tr><tr><td>2022-03</td><td>apple</td><td>200</td><td>0.3333333333333333</td></tr><tr><td>2022-03</td><td>banana</td><td>300</td><td>0.6666666666666666</td></tr><tr><td>2022-03</td><td>orange</td><td>400</td><td>1.0</td></tr></tbody></table></div>"
      ]
     },
     "metadata": {
      "application/vnd.databricks.v1+output": {
       "addedWidgets": {},
       "aggData": [],
       "aggError": "",
       "aggOverflow": false,
       "aggSchema": [],
       "aggSeriesLimitReached": false,
       "aggType": "",
       "arguments": {},
       "columnCustomDisplayInfos": {},
       "data": [
        [
         "2022-01",
         "apple",
         100,
         0.0
        ],
        [
         "2022-01",
         "banana",
         200,
         0.3333333333333333
        ],
        [
         "2022-01",
         "grapes",
         200,
         0.3333333333333333
        ],
        [
         "2022-01",
         "orange",
         300,
         1.0
        ],
        [
         "2022-02",
         "apple",
         150,
         0.0
        ],
        [
         "2022-02",
         "banana",
         250,
         0.3333333333333333
        ],
        [
         "2022-02",
         "orange",
         350,
         0.6666666666666666
        ],
        [
         "2022-02",
         "grapes",
         420,
         1.0
        ],
        [
         "2022-03",
         "grapes",
         110,
         0.0
        ],
        [
         "2022-03",
         "apple",
         200,
         0.3333333333333333
        ],
        [
         "2022-03",
         "banana",
         300,
         0.6666666666666666
        ],
        [
         "2022-03",
         "orange",
         400,
         1.0
        ]
       ],
       "datasetInfos": [],
       "dbfsResultPath": null,
       "isJsonSchema": true,
       "metadata": {},
       "overflow": false,
       "plotOptions": {
        "customPlotOptions": {},
        "displayType": "table",
        "pivotAggregation": null,
        "pivotColumns": null,
        "xColumns": null,
        "yColumns": null
       },
       "removedWidgets": [],
       "schema": [
        {
         "metadata": "{}",
         "name": "date",
         "type": "\"string\""
        },
        {
         "metadata": "{}",
         "name": "item",
         "type": "\"string\""
        },
        {
         "metadata": "{}",
         "name": "sales",
         "type": "\"long\""
        },
        {
         "metadata": "{}",
         "name": "rank",
         "type": "\"double\""
        }
       ],
       "type": "table"
      }
     },
     "output_type": "display_data"
    }
   ],
   "source": [
    "from pyspark.sql.functions import percent_rank\n",
    "\n",
    "windowSpec = Window.orderBy(\"sales\").partitionBy(\"date\")\n",
    "display(df.withColumn(\"rank\", percent_rank().over(windowSpec)))"
   ]
  },
  {
   "cell_type": "code",
   "execution_count": 0,
   "metadata": {
    "application/vnd.databricks.v1+cell": {
     "cellMetadata": {
      "byteLimit": 2048000,
      "rowLimit": 10000
     },
     "inputWidgets": {},
     "nuid": "65e74da6-9cd2-4e14-b44b-4ff6e64716ac",
     "showTitle": false,
     "title": ""
    }
   },
   "outputs": [],
   "source": []
  },
  {
   "cell_type": "code",
   "execution_count": 0,
   "metadata": {
    "application/vnd.databricks.v1+cell": {
     "cellMetadata": {
      "byteLimit": 2048000,
      "rowLimit": 10000
     },
     "inputWidgets": {},
     "nuid": "ea3fb7e4-668a-444c-8684-8e742ef965e5",
     "showTitle": false,
     "title": ""
    }
   },
   "outputs": [],
   "source": [
    "from pyspark.sql.functions import lag, lead, col\n",
    "\n",
    "windowSpec = Window.partitionBy(\"item\").orderBy(\"date\")"
   ]
  },
  {
   "cell_type": "code",
   "execution_count": 0,
   "metadata": {
    "application/vnd.databricks.v1+cell": {
     "cellMetadata": {
      "byteLimit": 2048000,
      "rowLimit": 10000
     },
     "inputWidgets": {},
     "nuid": "4508a1aa-71ad-4e70-add7-db51085a0f20",
     "showTitle": false,
     "title": ""
    }
   },
   "outputs": [
    {
     "output_type": "display_data",
     "data": {
      "text/html": [
       "<style scoped>\n",
       "  .table-result-container {\n",
       "    max-height: 300px;\n",
       "    overflow: auto;\n",
       "  }\n",
       "  table, th, td {\n",
       "    border: 1px solid black;\n",
       "    border-collapse: collapse;\n",
       "  }\n",
       "  th, td {\n",
       "    padding: 5px;\n",
       "  }\n",
       "  th {\n",
       "    text-align: left;\n",
       "  }\n",
       "</style><div class='table-result-container'><table class='table-result'><thead style='background-color: white'><tr><th>date</th><th>item</th><th>sales</th><th>prev_sales</th></tr></thead><tbody><tr><td>2022-01</td><td>apple</td><td>100</td><td>null</td></tr><tr><td>2022-02</td><td>apple</td><td>150</td><td>100</td></tr><tr><td>2022-03</td><td>apple</td><td>200</td><td>150</td></tr><tr><td>2022-01</td><td>banana</td><td>200</td><td>null</td></tr><tr><td>2022-02</td><td>banana</td><td>250</td><td>200</td></tr><tr><td>2022-03</td><td>banana</td><td>300</td><td>250</td></tr><tr><td>2022-01</td><td>grapes</td><td>200</td><td>null</td></tr><tr><td>2022-02</td><td>grapes</td><td>420</td><td>200</td></tr><tr><td>2022-03</td><td>grapes</td><td>110</td><td>420</td></tr><tr><td>2022-01</td><td>orange</td><td>300</td><td>null</td></tr><tr><td>2022-02</td><td>orange</td><td>350</td><td>300</td></tr><tr><td>2022-03</td><td>orange</td><td>400</td><td>350</td></tr></tbody></table></div>"
      ]
     },
     "metadata": {
      "application/vnd.databricks.v1+output": {
       "addedWidgets": {},
       "aggData": [],
       "aggError": "",
       "aggOverflow": false,
       "aggSchema": [],
       "aggSeriesLimitReached": false,
       "aggType": "",
       "arguments": {},
       "columnCustomDisplayInfos": {},
       "data": [
        [
         "2022-01",
         "apple",
         100,
         null
        ],
        [
         "2022-02",
         "apple",
         150,
         100
        ],
        [
         "2022-03",
         "apple",
         200,
         150
        ],
        [
         "2022-01",
         "banana",
         200,
         null
        ],
        [
         "2022-02",
         "banana",
         250,
         200
        ],
        [
         "2022-03",
         "banana",
         300,
         250
        ],
        [
         "2022-01",
         "grapes",
         200,
         null
        ],
        [
         "2022-02",
         "grapes",
         420,
         200
        ],
        [
         "2022-03",
         "grapes",
         110,
         420
        ],
        [
         "2022-01",
         "orange",
         300,
         null
        ],
        [
         "2022-02",
         "orange",
         350,
         300
        ],
        [
         "2022-03",
         "orange",
         400,
         350
        ]
       ],
       "datasetInfos": [],
       "dbfsResultPath": null,
       "isJsonSchema": true,
       "metadata": {},
       "overflow": false,
       "plotOptions": {
        "customPlotOptions": {},
        "displayType": "table",
        "pivotAggregation": null,
        "pivotColumns": null,
        "xColumns": null,
        "yColumns": null
       },
       "removedWidgets": [],
       "schema": [
        {
         "metadata": "{}",
         "name": "date",
         "type": "\"string\""
        },
        {
         "metadata": "{}",
         "name": "item",
         "type": "\"string\""
        },
        {
         "metadata": "{}",
         "name": "sales",
         "type": "\"long\""
        },
        {
         "metadata": "{}",
         "name": "prev_sales",
         "type": "\"long\""
        }
       ],
       "type": "table"
      }
     },
     "output_type": "display_data"
    }
   ],
   "source": [
    "display(df.withColumn(\"prev_sales\", lag(col(\"sales\"), 1).over(windowSpec)))"
   ]
  },
  {
   "cell_type": "code",
   "execution_count": 0,
   "metadata": {
    "application/vnd.databricks.v1+cell": {
     "cellMetadata": {
      "byteLimit": 2048000,
      "rowLimit": 10000
     },
     "inputWidgets": {},
     "nuid": "273d03c7-9d89-4e09-b643-a9c1edd3b83f",
     "showTitle": false,
     "title": ""
    }
   },
   "outputs": [
    {
     "output_type": "display_data",
     "data": {
      "text/html": [
       "<style scoped>\n",
       "  .table-result-container {\n",
       "    max-height: 300px;\n",
       "    overflow: auto;\n",
       "  }\n",
       "  table, th, td {\n",
       "    border: 1px solid black;\n",
       "    border-collapse: collapse;\n",
       "  }\n",
       "  th, td {\n",
       "    padding: 5px;\n",
       "  }\n",
       "  th {\n",
       "    text-align: left;\n",
       "  }\n",
       "</style><div class='table-result-container'><table class='table-result'><thead style='background-color: white'><tr><th>date</th><th>item</th><th>sales</th><th>next_sales</th></tr></thead><tbody><tr><td>2022-01</td><td>apple</td><td>100</td><td>150</td></tr><tr><td>2022-02</td><td>apple</td><td>150</td><td>200</td></tr><tr><td>2022-03</td><td>apple</td><td>200</td><td>null</td></tr><tr><td>2022-01</td><td>banana</td><td>200</td><td>250</td></tr><tr><td>2022-02</td><td>banana</td><td>250</td><td>300</td></tr><tr><td>2022-03</td><td>banana</td><td>300</td><td>null</td></tr><tr><td>2022-01</td><td>grapes</td><td>200</td><td>420</td></tr><tr><td>2022-02</td><td>grapes</td><td>420</td><td>110</td></tr><tr><td>2022-03</td><td>grapes</td><td>110</td><td>null</td></tr><tr><td>2022-01</td><td>orange</td><td>300</td><td>350</td></tr><tr><td>2022-02</td><td>orange</td><td>350</td><td>400</td></tr><tr><td>2022-03</td><td>orange</td><td>400</td><td>null</td></tr></tbody></table></div>"
      ]
     },
     "metadata": {
      "application/vnd.databricks.v1+output": {
       "addedWidgets": {},
       "aggData": [],
       "aggError": "",
       "aggOverflow": false,
       "aggSchema": [],
       "aggSeriesLimitReached": false,
       "aggType": "",
       "arguments": {},
       "columnCustomDisplayInfos": {},
       "data": [
        [
         "2022-01",
         "apple",
         100,
         150
        ],
        [
         "2022-02",
         "apple",
         150,
         200
        ],
        [
         "2022-03",
         "apple",
         200,
         null
        ],
        [
         "2022-01",
         "banana",
         200,
         250
        ],
        [
         "2022-02",
         "banana",
         250,
         300
        ],
        [
         "2022-03",
         "banana",
         300,
         null
        ],
        [
         "2022-01",
         "grapes",
         200,
         420
        ],
        [
         "2022-02",
         "grapes",
         420,
         110
        ],
        [
         "2022-03",
         "grapes",
         110,
         null
        ],
        [
         "2022-01",
         "orange",
         300,
         350
        ],
        [
         "2022-02",
         "orange",
         350,
         400
        ],
        [
         "2022-03",
         "orange",
         400,
         null
        ]
       ],
       "datasetInfos": [],
       "dbfsResultPath": null,
       "isJsonSchema": true,
       "metadata": {},
       "overflow": false,
       "plotOptions": {
        "customPlotOptions": {},
        "displayType": "table",
        "pivotAggregation": null,
        "pivotColumns": null,
        "xColumns": null,
        "yColumns": null
       },
       "removedWidgets": [],
       "schema": [
        {
         "metadata": "{}",
         "name": "date",
         "type": "\"string\""
        },
        {
         "metadata": "{}",
         "name": "item",
         "type": "\"string\""
        },
        {
         "metadata": "{}",
         "name": "sales",
         "type": "\"long\""
        },
        {
         "metadata": "{}",
         "name": "next_sales",
         "type": "\"long\""
        }
       ],
       "type": "table"
      }
     },
     "output_type": "display_data"
    }
   ],
   "source": [
    "display(df.withColumn(\"next_sales\", lead(col(\"sales\"), 1).over(windowSpec)))"
   ]
  },
  {
   "cell_type": "code",
   "execution_count": 0,
   "metadata": {
    "application/vnd.databricks.v1+cell": {
     "cellMetadata": {
      "byteLimit": 2048000,
      "rowLimit": 10000
     },
     "inputWidgets": {},
     "nuid": "feb107a2-9f42-4c97-8228-711f6f31a677",
     "showTitle": false,
     "title": ""
    }
   },
   "outputs": [
    {
     "output_type": "display_data",
     "data": {
      "text/html": [
       "<style scoped>\n",
       "  .table-result-container {\n",
       "    max-height: 300px;\n",
       "    overflow: auto;\n",
       "  }\n",
       "  table, th, td {\n",
       "    border: 1px solid black;\n",
       "    border-collapse: collapse;\n",
       "  }\n",
       "  th, td {\n",
       "    padding: 5px;\n",
       "  }\n",
       "  th {\n",
       "    text-align: left;\n",
       "  }\n",
       "</style><div class='table-result-container'><table class='table-result'><thead style='background-color: white'><tr><th>date</th><th>item</th><th>sales</th><th>sales_pct_change</th></tr></thead><tbody><tr><td>2022-01</td><td>apple</td><td>100</td><td>null</td></tr><tr><td>2022-02</td><td>apple</td><td>150</td><td>0.5</td></tr><tr><td>2022-03</td><td>apple</td><td>200</td><td>0.3333333333333333</td></tr><tr><td>2022-01</td><td>banana</td><td>200</td><td>null</td></tr><tr><td>2022-02</td><td>banana</td><td>250</td><td>0.25</td></tr><tr><td>2022-03</td><td>banana</td><td>300</td><td>0.2</td></tr><tr><td>2022-01</td><td>grapes</td><td>200</td><td>null</td></tr><tr><td>2022-02</td><td>grapes</td><td>420</td><td>1.1</td></tr><tr><td>2022-03</td><td>grapes</td><td>110</td><td>-0.7380952380952381</td></tr><tr><td>2022-01</td><td>orange</td><td>300</td><td>null</td></tr><tr><td>2022-02</td><td>orange</td><td>350</td><td>0.16666666666666666</td></tr><tr><td>2022-03</td><td>orange</td><td>400</td><td>0.14285714285714285</td></tr></tbody></table></div>"
      ]
     },
     "metadata": {
      "application/vnd.databricks.v1+output": {
       "addedWidgets": {},
       "aggData": [],
       "aggError": "",
       "aggOverflow": false,
       "aggSchema": [],
       "aggSeriesLimitReached": false,
       "aggType": "",
       "arguments": {},
       "columnCustomDisplayInfos": {},
       "data": [
        [
         "2022-01",
         "apple",
         100,
         null
        ],
        [
         "2022-02",
         "apple",
         150,
         0.5
        ],
        [
         "2022-03",
         "apple",
         200,
         0.3333333333333333
        ],
        [
         "2022-01",
         "banana",
         200,
         null
        ],
        [
         "2022-02",
         "banana",
         250,
         0.25
        ],
        [
         "2022-03",
         "banana",
         300,
         0.2
        ],
        [
         "2022-01",
         "grapes",
         200,
         null
        ],
        [
         "2022-02",
         "grapes",
         420,
         1.1
        ],
        [
         "2022-03",
         "grapes",
         110,
         -0.7380952380952381
        ],
        [
         "2022-01",
         "orange",
         300,
         null
        ],
        [
         "2022-02",
         "orange",
         350,
         0.16666666666666666
        ],
        [
         "2022-03",
         "orange",
         400,
         0.14285714285714285
        ]
       ],
       "datasetInfos": [],
       "dbfsResultPath": null,
       "isJsonSchema": true,
       "metadata": {},
       "overflow": false,
       "plotOptions": {
        "customPlotOptions": {},
        "displayType": "table",
        "pivotAggregation": null,
        "pivotColumns": null,
        "xColumns": null,
        "yColumns": null
       },
       "removedWidgets": [],
       "schema": [
        {
         "metadata": "{}",
         "name": "date",
         "type": "\"string\""
        },
        {
         "metadata": "{}",
         "name": "item",
         "type": "\"string\""
        },
        {
         "metadata": "{}",
         "name": "sales",
         "type": "\"long\""
        },
        {
         "metadata": "{}",
         "name": "sales_pct_change",
         "type": "\"double\""
        }
       ],
       "type": "table"
      }
     },
     "output_type": "display_data"
    }
   ],
   "source": [
    "display(\n",
    "    df.withColumn(\n",
    "        \"sales_pct_change\",\n",
    "        (col(\"sales\") - lag(col(\"sales\"), 1).over(windowSpec))\n",
    "        / lag(col(\"sales\"), 1).over(windowSpec),\n",
    "    )\n",
    ")"
   ]
  },
  {
   "cell_type": "code",
   "execution_count": 0,
   "metadata": {
    "application/vnd.databricks.v1+cell": {
     "cellMetadata": {
      "byteLimit": 2048000,
      "rowLimit": 10000
     },
     "inputWidgets": {},
     "nuid": "89420b96-6d06-4754-99c5-6b4646a24fb3",
     "showTitle": false,
     "title": ""
    }
   },
   "outputs": [],
   "source": []
  },
  {
   "cell_type": "code",
   "execution_count": 0,
   "metadata": {
    "application/vnd.databricks.v1+cell": {
     "cellMetadata": {
      "byteLimit": 2048000,
      "rowLimit": 10000
     },
     "inputWidgets": {},
     "nuid": "fe3c84e2-8a92-4ce4-9a4a-afa36def92bc",
     "showTitle": false,
     "title": ""
    }
   },
   "outputs": [],
   "source": [
    "data = [(\"Alice\", 25, \"NYC\"),\n",
    "        (\"Bob\", 30, \"LA\"),\n",
    "        (\"Charlie\", 35, \"Chicago\"),\n",
    "        (\"Dave\", 40, \"Boston\"),\n",
    "        (\"Eve\", 45, \"Seattle\"),\n",
    "        (\"Poly\", 24, \"Seattle\"),\n",
    "         (\"Hepty\", 29, \"Chicago\")]\n",
    "\n",
    "df = spark.createDataFrame(data, [\"name\", \"age\", \"city\"])"
   ]
  },
  {
   "cell_type": "code",
   "execution_count": 0,
   "metadata": {
    "application/vnd.databricks.v1+cell": {
     "cellMetadata": {
      "byteLimit": 2048000,
      "rowLimit": 10000
     },
     "inputWidgets": {},
     "nuid": "eafeb4a7-2516-4023-9aa5-6815febc3d3d",
     "showTitle": false,
     "title": ""
    }
   },
   "outputs": [
    {
     "output_type": "display_data",
     "data": {
      "text/html": [
       "<style scoped>\n",
       "  .table-result-container {\n",
       "    max-height: 300px;\n",
       "    overflow: auto;\n",
       "  }\n",
       "  table, th, td {\n",
       "    border: 1px solid black;\n",
       "    border-collapse: collapse;\n",
       "  }\n",
       "  th, td {\n",
       "    padding: 5px;\n",
       "  }\n",
       "  th {\n",
       "    text-align: left;\n",
       "  }\n",
       "</style><div class='table-result-container'><table class='table-result'><thead style='background-color: white'><tr><th>name</th><th>age</th><th>city</th></tr></thead><tbody><tr><td>Alice</td><td>25</td><td>NYC</td></tr><tr><td>Bob</td><td>30</td><td>LA</td></tr><tr><td>Charlie</td><td>35</td><td>Chicago</td></tr><tr><td>Dave</td><td>40</td><td>Boston</td></tr><tr><td>Eve</td><td>45</td><td>Seattle</td></tr><tr><td>Poly</td><td>24</td><td>Seattle</td></tr><tr><td>Hepty</td><td>29</td><td>Chicago</td></tr></tbody></table></div>"
      ]
     },
     "metadata": {
      "application/vnd.databricks.v1+output": {
       "addedWidgets": {},
       "aggData": [],
       "aggError": "",
       "aggOverflow": false,
       "aggSchema": [],
       "aggSeriesLimitReached": false,
       "aggType": "",
       "arguments": {},
       "columnCustomDisplayInfos": {},
       "data": [
        [
         "Alice",
         25,
         "NYC"
        ],
        [
         "Bob",
         30,
         "LA"
        ],
        [
         "Charlie",
         35,
         "Chicago"
        ],
        [
         "Dave",
         40,
         "Boston"
        ],
        [
         "Eve",
         45,
         "Seattle"
        ],
        [
         "Poly",
         24,
         "Seattle"
        ],
        [
         "Hepty",
         29,
         "Chicago"
        ]
       ],
       "datasetInfos": [],
       "dbfsResultPath": null,
       "isJsonSchema": true,
       "metadata": {},
       "overflow": false,
       "plotOptions": {
        "customPlotOptions": {},
        "displayType": "table",
        "pivotAggregation": null,
        "pivotColumns": null,
        "xColumns": null,
        "yColumns": null
       },
       "removedWidgets": [],
       "schema": [
        {
         "metadata": "{}",
         "name": "name",
         "type": "\"string\""
        },
        {
         "metadata": "{}",
         "name": "age",
         "type": "\"long\""
        },
        {
         "metadata": "{}",
         "name": "city",
         "type": "\"string\""
        }
       ],
       "type": "table"
      }
     },
     "output_type": "display_data"
    }
   ],
   "source": [
    "display(df)"
   ]
  },
  {
   "cell_type": "code",
   "execution_count": 0,
   "metadata": {
    "application/vnd.databricks.v1+cell": {
     "cellMetadata": {
      "byteLimit": 2048000,
      "rowLimit": 10000
     },
     "inputWidgets": {},
     "nuid": "d1c332ba-c4cf-4c4a-a611-2729caad08fb",
     "showTitle": false,
     "title": ""
    }
   },
   "outputs": [],
   "source": [
    "from pyspark.sql.functions import desc\n",
    "\n",
    "windowSpec = Window.orderBy(desc(\"age\")).partitionBy(\"city\")"
   ]
  },
  {
   "cell_type": "code",
   "execution_count": 0,
   "metadata": {
    "application/vnd.databricks.v1+cell": {
     "cellMetadata": {
      "byteLimit": 2048000,
      "rowLimit": 10000
     },
     "inputWidgets": {},
     "nuid": "d7c73ffd-a66d-43ff-8154-8c0d09cc1890",
     "showTitle": false,
     "title": ""
    }
   },
   "outputs": [
    {
     "output_type": "display_data",
     "data": {
      "text/html": [
       "<style scoped>\n",
       "  .table-result-container {\n",
       "    max-height: 300px;\n",
       "    overflow: auto;\n",
       "  }\n",
       "  table, th, td {\n",
       "    border: 1px solid black;\n",
       "    border-collapse: collapse;\n",
       "  }\n",
       "  th, td {\n",
       "    padding: 5px;\n",
       "  }\n",
       "  th {\n",
       "    text-align: left;\n",
       "  }\n",
       "</style><div class='table-result-container'><table class='table-result'><thead style='background-color: white'><tr><th>name</th><th>age</th><th>city</th><th>first_func</th></tr></thead><tbody><tr><td>Dave</td><td>40</td><td>Boston</td><td>Dave</td></tr><tr><td>Charlie</td><td>35</td><td>Chicago</td><td>Charlie</td></tr><tr><td>Hepty</td><td>29</td><td>Chicago</td><td>Charlie</td></tr><tr><td>Bob</td><td>30</td><td>LA</td><td>Bob</td></tr><tr><td>Alice</td><td>25</td><td>NYC</td><td>Alice</td></tr><tr><td>Eve</td><td>45</td><td>Seattle</td><td>Eve</td></tr><tr><td>Poly</td><td>24</td><td>Seattle</td><td>Eve</td></tr></tbody></table></div>"
      ]
     },
     "metadata": {
      "application/vnd.databricks.v1+output": {
       "addedWidgets": {},
       "aggData": [],
       "aggError": "",
       "aggOverflow": false,
       "aggSchema": [],
       "aggSeriesLimitReached": false,
       "aggType": "",
       "arguments": {},
       "columnCustomDisplayInfos": {},
       "data": [
        [
         "Dave",
         40,
         "Boston",
         "Dave"
        ],
        [
         "Charlie",
         35,
         "Chicago",
         "Charlie"
        ],
        [
         "Hepty",
         29,
         "Chicago",
         "Charlie"
        ],
        [
         "Bob",
         30,
         "LA",
         "Bob"
        ],
        [
         "Alice",
         25,
         "NYC",
         "Alice"
        ],
        [
         "Eve",
         45,
         "Seattle",
         "Eve"
        ],
        [
         "Poly",
         24,
         "Seattle",
         "Eve"
        ]
       ],
       "datasetInfos": [],
       "dbfsResultPath": null,
       "isJsonSchema": true,
       "metadata": {},
       "overflow": false,
       "plotOptions": {
        "customPlotOptions": {},
        "displayType": "table",
        "pivotAggregation": null,
        "pivotColumns": null,
        "xColumns": null,
        "yColumns": null
       },
       "removedWidgets": [],
       "schema": [
        {
         "metadata": "{}",
         "name": "name",
         "type": "\"string\""
        },
        {
         "metadata": "{}",
         "name": "age",
         "type": "\"long\""
        },
        {
         "metadata": "{}",
         "name": "city",
         "type": "\"string\""
        },
        {
         "metadata": "{}",
         "name": "first_func",
         "type": "\"string\""
        }
       ],
       "type": "table"
      }
     },
     "output_type": "display_data"
    },
    {
     "output_type": "display_data",
     "data": {
      "text/html": [
       "<style scoped>\n",
       "  .table-result-container {\n",
       "    max-height: 300px;\n",
       "    overflow: auto;\n",
       "  }\n",
       "  table, th, td {\n",
       "    border: 1px solid black;\n",
       "    border-collapse: collapse;\n",
       "  }\n",
       "  th, td {\n",
       "    padding: 5px;\n",
       "  }\n",
       "  th {\n",
       "    text-align: left;\n",
       "  }\n",
       "</style><div class='table-result-container'><table class='table-result'><thead style='background-color: white'><tr><th>name</th><th>age</th><th>city</th><th>first_func</th></tr></thead><tbody><tr><td>Dave</td><td>40</td><td>Boston</td><td>Dave</td></tr><tr><td>Charlie</td><td>35</td><td>Chicago</td><td>Charlie</td></tr><tr><td>Hepty</td><td>29</td><td>Chicago</td><td>Hepty</td></tr><tr><td>Bob</td><td>30</td><td>LA</td><td>Bob</td></tr><tr><td>Alice</td><td>25</td><td>NYC</td><td>Alice</td></tr><tr><td>Eve</td><td>45</td><td>Seattle</td><td>Eve</td></tr><tr><td>Poly</td><td>24</td><td>Seattle</td><td>Poly</td></tr></tbody></table></div>"
      ]
     },
     "metadata": {
      "application/vnd.databricks.v1+output": {
       "addedWidgets": {},
       "aggData": [],
       "aggError": "",
       "aggOverflow": false,
       "aggSchema": [],
       "aggSeriesLimitReached": false,
       "aggType": "",
       "arguments": {},
       "columnCustomDisplayInfos": {},
       "data": [
        [
         "Dave",
         40,
         "Boston",
         "Dave"
        ],
        [
         "Charlie",
         35,
         "Chicago",
         "Charlie"
        ],
        [
         "Hepty",
         29,
         "Chicago",
         "Hepty"
        ],
        [
         "Bob",
         30,
         "LA",
         "Bob"
        ],
        [
         "Alice",
         25,
         "NYC",
         "Alice"
        ],
        [
         "Eve",
         45,
         "Seattle",
         "Eve"
        ],
        [
         "Poly",
         24,
         "Seattle",
         "Poly"
        ]
       ],
       "datasetInfos": [],
       "dbfsResultPath": null,
       "isJsonSchema": true,
       "metadata": {},
       "overflow": false,
       "plotOptions": {
        "customPlotOptions": {},
        "displayType": "table",
        "pivotAggregation": null,
        "pivotColumns": null,
        "xColumns": null,
        "yColumns": null
       },
       "removedWidgets": [],
       "schema": [
        {
         "metadata": "{}",
         "name": "name",
         "type": "\"string\""
        },
        {
         "metadata": "{}",
         "name": "age",
         "type": "\"long\""
        },
        {
         "metadata": "{}",
         "name": "city",
         "type": "\"string\""
        },
        {
         "metadata": "{}",
         "name": "first_func",
         "type": "\"string\""
        }
       ],
       "type": "table"
      }
     },
     "output_type": "display_data"
    }
   ],
   "source": [
    "from pyspark.sql.functions import first, last\n",
    "\n",
    "display(df.select(\"*\", first(\"name\").over(windowSpec).alias(\"first_func\")))\n",
    "\n",
    "display(df.select(\"*\", last(\"name\").over(windowSpec).alias(\"first_func\")))"
   ]
  },
  {
   "cell_type": "code",
   "execution_count": 0,
   "metadata": {
    "application/vnd.databricks.v1+cell": {
     "cellMetadata": {
      "byteLimit": 2048000,
      "rowLimit": 10000
     },
     "inputWidgets": {},
     "nuid": "e3b4fb7a-7f30-41cb-bbe0-9edfc4cf5484",
     "showTitle": false,
     "title": ""
    }
   },
   "outputs": [],
   "source": []
  },
  {
   "cell_type": "code",
   "execution_count": 0,
   "metadata": {
    "application/vnd.databricks.v1+cell": {
     "cellMetadata": {
      "byteLimit": 2048000,
      "rowLimit": 10000
     },
     "inputWidgets": {},
     "nuid": "7abea820-68d8-47a4-ada3-1791efa7e3f2",
     "showTitle": false,
     "title": ""
    }
   },
   "outputs": [],
   "source": []
  }
 ],
 "metadata": {
  "application/vnd.databricks.v1+notebook": {
   "dashboards": [],
   "language": "python",
   "notebookMetadata": {
    "pythonIndentUnit": 4
   },
   "notebookName": "PySpark WINDOW Functions",
   "widgets": {}
  }
 },
 "nbformat": 4,
 "nbformat_minor": 0
}
