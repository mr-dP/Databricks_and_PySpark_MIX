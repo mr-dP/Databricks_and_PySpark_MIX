{
 "cells": [
  {
   "cell_type": "code",
   "execution_count": 1,
   "metadata": {},
   "outputs": [],
   "source": [
    "from pyspark.sql import SparkSession"
   ]
  },
  {
   "cell_type": "code",
   "execution_count": 2,
   "metadata": {},
   "outputs": [
    {
     "name": "stdout",
     "output_type": "stream",
     "text": [
      "23/08/27 19:59:29 WARN Utils: Your hostname, Dipankars-MacBook-Pro.local resolves to a loopback address: 127.0.0.1; using 192.168.29.115 instead (on interface en0)\n",
      "23/08/27 19:59:29 WARN Utils: Set SPARK_LOCAL_IP if you need to bind to another address\n"
     ]
    },
    {
     "name": "stderr",
     "output_type": "stream",
     "text": [
      "Setting default log level to \"WARN\".\n",
      "To adjust logging level use sc.setLogLevel(newLevel). For SparkR, use setLogLevel(newLevel).\n"
     ]
    },
    {
     "name": "stdout",
     "output_type": "stream",
     "text": [
      "23/08/27 19:59:29 WARN NativeCodeLoader: Unable to load native-hadoop library for your platform... using builtin-java classes where applicable\n"
     ]
    }
   ],
   "source": [
    "spark = (\n",
    "    SparkSession.builder.master(\"local[8]\").appName(\"Optimize File Reads\").getOrCreate()\n",
    ")\n"
   ]
  },
  {
   "cell_type": "code",
   "execution_count": 3,
   "metadata": {},
   "outputs": [
    {
     "data": {
      "text/html": [
       "\n",
       "            <div>\n",
       "                <p><b>SparkSession - in-memory</b></p>\n",
       "                \n",
       "        <div>\n",
       "            <p><b>SparkContext</b></p>\n",
       "\n",
       "            <p><a href=\"http://192.168.29.115:4040\">Spark UI</a></p>\n",
       "\n",
       "            <dl>\n",
       "              <dt>Version</dt>\n",
       "                <dd><code>v3.3.2</code></dd>\n",
       "              <dt>Master</dt>\n",
       "                <dd><code>local[8]</code></dd>\n",
       "              <dt>AppName</dt>\n",
       "                <dd><code>Optimize File Reads</code></dd>\n",
       "            </dl>\n",
       "        </div>\n",
       "        \n",
       "            </div>\n",
       "        "
      ],
      "text/plain": [
       "<pyspark.sql.session.SparkSession at 0x10e423df0>"
      ]
     },
     "execution_count": 3,
     "metadata": {},
     "output_type": "execute_result"
    }
   ],
   "source": [
    "spark"
   ]
  },
  {
   "cell_type": "code",
   "execution_count": 4,
   "metadata": {},
   "outputs": [
    {
     "name": "stdout",
     "output_type": "stream",
     "text": [
      "Partition size: 134217728 in bytes & 128.0 in MB\n"
     ]
    }
   ],
   "source": [
    "partition_size = spark.conf.get(\"spark.sql.files.maxPartitionBytes\").replace(\"b\", \"\")\n",
    "\n",
    "print(\n",
    "    f\"Partition size: {partition_size} in bytes & {int(partition_size)/1024/1024} in MB\"\n",
    ")"
   ]
  },
  {
   "cell_type": "code",
   "execution_count": 5,
   "metadata": {},
   "outputs": [
    {
     "name": "stdout",
     "output_type": "stream",
     "text": [
      "Parallelism: 8\n"
     ]
    }
   ],
   "source": [
    "print(f\"Parallelism: {spark.sparkContext.defaultParallelism}\")"
   ]
  },
  {
   "cell_type": "code",
   "execution_count": 6,
   "metadata": {},
   "outputs": [
    {
     "name": "stdout",
     "output_type": "stream",
     "text": [
      "\n",
      "itineraries.csv File size:\n",
      "    2821514721 in bytes\n",
      "    2690.806122779846 in MB\n",
      "    2.6277403542771935 in GB\n",
      "\n"
     ]
    }
   ],
   "source": [
    "import os\n",
    "\n",
    "file_size = os.path.getsize(\"/Users/dipankarpal/Downloads/Combined_Flights_2019.csv\")\n",
    "\n",
    "print(\n",
    "    f\"\"\"\n",
    "itineraries.csv File size:\n",
    "    {file_size} in bytes\n",
    "    {file_size / 1024 / 1024} in MB\n",
    "    {file_size / 1024 / 1024 / 1024} in GB\n",
    "\"\"\"\n",
    ")"
   ]
  },
  {
   "cell_type": "code",
   "execution_count": 7,
   "metadata": {},
   "outputs": [],
   "source": [
    "import time\n",
    "\n",
    "\n",
    "def get_time(func):\n",
    "    def inner_get_time():\n",
    "        start_time = time.time()\n",
    "        func()\n",
    "        end_time = time.time()\n",
    "        print(\"-\" * 80)\n",
    "        return f\"Execution time: {(end_time - start_time) * 10000} milliseconds\"\n",
    "\n",
    "    print(inner_get_time())\n",
    "    print(\"-\" * 80)\n"
   ]
  },
  {
   "cell_type": "code",
   "execution_count": 8,
   "metadata": {},
   "outputs": [
    {
     "name": "stderr",
     "output_type": "stream",
     "text": [
      "                                                                                \r"
     ]
    },
    {
     "name": "stdout",
     "output_type": "stream",
     "text": [
      "Number of Partitions: 22\n",
      "23/08/27 19:59:38 WARN package: Truncated the string representation of a plan since it was too large. This behavior can be adjusted by setting 'spark.sql.debug.maxToStringFields'.\n"
     ]
    },
    {
     "name": "stderr",
     "output_type": "stream",
     "text": [
      "[Stage 2:============================================>            (17 + 5) / 22]\r"
     ]
    },
    {
     "name": "stdout",
     "output_type": "stream",
     "text": [
      "--------------------------------------------------------------------------------\n",
      "Execution time: 142146.24166488647 milliseconds\n",
      "--------------------------------------------------------------------------------\n"
     ]
    },
    {
     "name": "stderr",
     "output_type": "stream",
     "text": [
      "                                                                                \r"
     ]
    }
   ],
   "source": [
    "@get_time\n",
    "def df_func():\n",
    "    df = (\n",
    "        spark.read.option(\"header\", True)\n",
    "        .option(\"inferSchema\", True)\n",
    "        .csv(\"/Users/dipankarpal/Downloads/Combined_Flights_2019.csv\")\n",
    "    )\n",
    "\n",
    "    print(f\"Number of Partitions: {df.rdd.getNumPartitions()}\")\n",
    "\n",
    "    df.write.format(\"noop\").mode(\"overwrite\").save()"
   ]
  },
  {
   "cell_type": "code",
   "execution_count": 9,
   "metadata": {},
   "outputs": [],
   "source": [
    "spark.conf.set(\"spark.sql.files.maxPartitionBytes\", f\"{128 * 3 * 1024 * 1024}b\")"
   ]
  },
  {
   "cell_type": "code",
   "execution_count": 10,
   "metadata": {},
   "outputs": [
    {
     "name": "stdout",
     "output_type": "stream",
     "text": [
      "Partition size: 402653184 in bytes & 384.0 in MB\n"
     ]
    }
   ],
   "source": [
    "partition_size = spark.conf.get(\"spark.sql.files.maxPartitionBytes\").replace(\"b\", \"\")\n",
    "\n",
    "print(\n",
    "    f\"Partition size: {partition_size} in bytes & {int(partition_size)/1024/1024} in MB\"\n",
    ")"
   ]
  },
  {
   "cell_type": "code",
   "execution_count": 11,
   "metadata": {},
   "outputs": [
    {
     "name": "stderr",
     "output_type": "stream",
     "text": [
      "                                                                                \r"
     ]
    },
    {
     "name": "stdout",
     "output_type": "stream",
     "text": [
      "Number of Partitions: 8\n"
     ]
    },
    {
     "name": "stderr",
     "output_type": "stream",
     "text": [
      "[Stage 5:>                                                          (0 + 8) / 8]\r"
     ]
    },
    {
     "name": "stdout",
     "output_type": "stream",
     "text": [
      "--------------------------------------------------------------------------------\n",
      "Execution time: 107097.52798080444 milliseconds\n",
      "--------------------------------------------------------------------------------\n"
     ]
    },
    {
     "name": "stderr",
     "output_type": "stream",
     "text": [
      "                                                                                \r"
     ]
    }
   ],
   "source": [
    "@get_time\n",
    "def df_func():\n",
    "    df = (\n",
    "        spark.read.option(\"header\", True)\n",
    "        .option(\"inferSchema\", True)\n",
    "        .csv(\"/Users/dipankarpal/Downloads/Combined_Flights_2019.csv\")\n",
    "    )\n",
    "\n",
    "    print(f\"Number of Partitions: {df.rdd.getNumPartitions()}\")\n",
    "\n",
    "    df.write.format(\"noop\").mode(\"overwrite\").save()"
   ]
  },
  {
   "cell_type": "code",
   "execution_count": 12,
   "metadata": {},
   "outputs": [
    {
     "name": "stdout",
     "output_type": "stream",
     "text": [
      "Partition size: 167772160 in bytes & 160.0 in MB\n"
     ]
    }
   ],
   "source": [
    "spark.conf.set(\"spark.sql.files.maxPartitionBytes\", f\"{160 * 1024 * 1024}b\")\n",
    "\n",
    "partition_size = spark.conf.get(\"spark.sql.files.maxPartitionBytes\").replace(\"b\", \"\")\n",
    "\n",
    "print(\n",
    "    f\"Partition size: {partition_size} in bytes & {int(partition_size)/1024/1024} in MB\"\n",
    ")"
   ]
  },
  {
   "cell_type": "code",
   "execution_count": 13,
   "metadata": {},
   "outputs": [
    {
     "name": "stderr",
     "output_type": "stream",
     "text": [
      "                                                                                \r"
     ]
    },
    {
     "name": "stdout",
     "output_type": "stream",
     "text": [
      "Number of Partitions: 17\n"
     ]
    },
    {
     "name": "stderr",
     "output_type": "stream",
     "text": [
      "[Stage 8:=====================================================>   (16 + 1) / 17]\r"
     ]
    },
    {
     "name": "stdout",
     "output_type": "stream",
     "text": [
      "--------------------------------------------------------------------------------\n",
      "Execution time: 125339.51997756958 milliseconds\n",
      "--------------------------------------------------------------------------------\n"
     ]
    },
    {
     "name": "stderr",
     "output_type": "stream",
     "text": [
      "                                                                                \r"
     ]
    }
   ],
   "source": [
    "@get_time\n",
    "def df_func():\n",
    "    df = (\n",
    "        spark.read.option(\"header\", True)\n",
    "        .option(\"inferSchema\", True)\n",
    "        .csv(\"/Users/dipankarpal/Downloads/Combined_Flights_2019.csv\")\n",
    "    )\n",
    "\n",
    "    print(f\"Number of Partitions: {df.rdd.getNumPartitions()}\")\n",
    "\n",
    "    df.write.format(\"noop\").mode(\"overwrite\").save()"
   ]
  },
  {
   "cell_type": "code",
   "execution_count": 14,
   "metadata": {},
   "outputs": [
    {
     "name": "stdout",
     "output_type": "stream",
     "text": [
      "Partition size: 186646528 in bytes & 178.0 in MB\n"
     ]
    }
   ],
   "source": [
    "spark.conf.set(\"spark.sql.files.maxPartitionBytes\", f\"{178 * 1024 * 1024}b\")\n",
    "\n",
    "partition_size = spark.conf.get(\"spark.sql.files.maxPartitionBytes\").replace(\"b\", \"\")\n",
    "\n",
    "print(\n",
    "    f\"Partition size: {partition_size} in bytes & {int(partition_size)/1024/1024} in MB\"\n",
    ")"
   ]
  },
  {
   "cell_type": "code",
   "execution_count": 15,
   "metadata": {},
   "outputs": [
    {
     "name": "stderr",
     "output_type": "stream",
     "text": [
      "                                                                                \r"
     ]
    },
    {
     "name": "stdout",
     "output_type": "stream",
     "text": [
      "Number of Partitions: 16\n"
     ]
    },
    {
     "name": "stderr",
     "output_type": "stream",
     "text": [
      "[Stage 11:================================>                        (9 + 7) / 16]\r"
     ]
    },
    {
     "name": "stdout",
     "output_type": "stream",
     "text": [
      "--------------------------------------------------------------------------------\n",
      "Execution time: 111371.87719345093 milliseconds\n",
      "--------------------------------------------------------------------------------\n"
     ]
    },
    {
     "name": "stderr",
     "output_type": "stream",
     "text": [
      "                                                                                \r"
     ]
    }
   ],
   "source": [
    "@get_time\n",
    "def df_func():\n",
    "    df = (\n",
    "        spark.read.option(\"header\", True)\n",
    "        .option(\"inferSchema\", True)\n",
    "        .csv(\"/Users/dipankarpal/Downloads/Combined_Flights_2019.csv\")\n",
    "    )\n",
    "\n",
    "    print(f\"Number of Partitions: {df.rdd.getNumPartitions()}\")\n",
    "\n",
    "    df.write.format(\"noop\").mode(\"overwrite\").save()"
   ]
  },
  {
   "cell_type": "code",
   "execution_count": null,
   "metadata": {},
   "outputs": [],
   "source": []
  }
 ],
 "metadata": {
  "kernelspec": {
   "display_name": "py310",
   "language": "python",
   "name": "python3"
  },
  "language_info": {
   "codemirror_mode": {
    "name": "ipython",
    "version": 3
   },
   "file_extension": ".py",
   "mimetype": "text/x-python",
   "name": "python",
   "nbconvert_exporter": "python",
   "pygments_lexer": "ipython3",
   "version": "3.10.11"
  },
  "orig_nbformat": 4
 },
 "nbformat": 4,
 "nbformat_minor": 2
}
